{
  "nbformat": 4,
  "nbformat_minor": 0,
  "metadata": {
    "colab": {
      "provenance": []
    },
    "kernelspec": {
      "name": "python3",
      "display_name": "Python 3"
    },
    "language_info": {
      "name": "python"
    }
  },
  "cells": [
    {
      "cell_type": "code",
      "execution_count": null,
      "metadata": {
        "colab": {
          "base_uri": "https://localhost:8080/"
        },
        "id": "aUPsvA0QYr8t",
        "outputId": "f33957da-a38b-4b7a-f199-49bb226ae282"
      },
      "outputs": [
        {
          "output_type": "stream",
          "name": "stdout",
          "text": [
            "I'm a car!\n",
            "What should I do? [A]ccelerate, [B]rake,show [O]dometer, or show average [S]peed?4\n",
            "I don't know how to do that\n",
            "What should I do? [A]ccelerate, [B]rake,show [O]dometer, or show average [S]peed?S\n",
            "The car's average speed was None kmph\n",
            "I'm going 0 kmph!\n",
            "What should I do? [A]ccelerate, [B]rake,show [O]dometer, or show average [S]peed?A\n",
            "I'm going 5 kmph!\n",
            "What should I do? [A]ccelerate, [B]rake,show [O]dometer, or show average [S]peed?S\n",
            "The car's average speed was 2.5 kmph\n",
            "I'm going 5 kmph!\n"
          ]
        }
      ],
      "source": [
        "class Car:\n",
        "\n",
        "    def __init__(self, speed=0):\n",
        "        self.speed = speed\n",
        "        self.odometer = 0\n",
        "        self.time = 0\n",
        "\n",
        "    def say_state(self):\n",
        "        print(\"I'm going {} kmph!\".format(self.speed))\n",
        "\n",
        "    def accelerate(self):\n",
        "        self.speed += 5\n",
        "\n",
        "    def brake(self):\n",
        "        if self.speed < 5:\n",
        "            self.speed = 0\n",
        "        else:\n",
        "            self.speed -= 5\n",
        "\n",
        "    def step(self):\n",
        "        self.odometer += self.speed\n",
        "        self.time += 1\n",
        "\n",
        "    def average_speed(self):\n",
        "        if self.time != 0:\n",
        "            return self.odometer / self.time\n",
        "        else:\n",
        "            pass\n",
        "\n",
        "\n",
        "if __name__ == '__main__':\n",
        "\n",
        "    my_car = Car()\n",
        "    print(\"I'm a car!\")\n",
        "    while True:\n",
        "        action = input(\"What should I do? [A]ccelerate, [B]rake,show [O]dometer, or show average [S]peed?\").upper()\n",
        "        if action not in \"ABOS\" or len(action) != 1:\n",
        "            print(\"I don't know how to do that\")\n",
        "            continue\n",
        "        if action == 'A':\n",
        "            my_car.accelerate()\n",
        "        elif action == 'B':\n",
        "            my_car.brake()\n",
        "        elif action == 'O':\n",
        "            print(\"The car has driven {} kilometers\".format(my_car.odometer))\n",
        "        elif action == 'S':\n",
        "            print(\"The car's average speed was {} kmph\".format(my_car.average_speed()))\n",
        "        my_car.step()\n",
        "        my_car.say_state()\n"
      ]
    }
  ]
}